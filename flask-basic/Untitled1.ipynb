{
 "cells": [
  {
   "cell_type": "markdown",
   "metadata": {},
   "source": [
    "<center><b><h1>Data Mining Term Project Fall 2020</h1></bold></center>"
   ]
  },
  {
   "cell_type": "markdown",
   "metadata": {},
   "source": [
    ">Name: Asodariya, Krupa Rameshbhai<br>\n",
    ">UTA ID: 1001773036"
   ]
  },
  {
   "attachments": {},
   "cell_type": "markdown",
   "metadata": {},
   "source": [
    "> <h4>Goal of Term project:<br></h4>\n",
    "The goal of the term project is building a classifier that you can show to someone with your\n",
    "homepage that will help you look competent. Additionally, build a web application to present a demo with rating for that given user input text(review) using working of model. Moreover,Make improvements over the different model you are using to clssiy the object.<br><br>\n"
   ]
  },
  {
   "cell_type": "markdown",
   "metadata": {},
   "source": [
    "><h2>Overview of notebook:</h2>\n",
    "\n",
    "1. I have used Board game geek dataset from kaggle:<br>\n",
    "     Link: https://www.kaggle.com/jvanelteren/boardgamegeek-reviews<br>\n",
    "\n",
    "2. This dataset has 15million rows which is quite large dataset for the system that we use, Therefor I have used only 10% of the total data for this project.<br>\n",
    "\n",
    "3. Data preprocessing:<br>\n",
    "    Dara preprocessing is most important task in text analysis and it will affect your model's performance and final result. Generally, in this step we remove emojis, stop words, some rare occurring words from text.<br>\n",
    "\n",
    "4. Models for data training and testing:<br>\n",
    "    There are so many models for text classification, bernoulli Naive Bayes, linear Support vector machine,multinomial Naive Bayes, etc.I have used some of those models in order to get the best accuracy on the dataset I am using.<br>\n",
    "\n",
    "5. Data visualization:<br>\n",
    "   I used matplotlib, seaborn libraries for data visualization. data is represnted by scatter plot, heatmap and line graph with appropriate labels on axis and legends.\n",
    "\n",
    "6.   Performance evaluation of algorithms:<br>\n",
    "    for evaluation purpose i used confusion matrix, F1 score and classification report etc.<br>\n",
    "   \n",
    "\n"
   ]
  },
  {
   "cell_type": "markdown",
   "metadata": {},
   "source": [
    "><b><h1>Classifiers used in the project</h1></b>"
   ]
  },
  {
   "cell_type": "markdown",
   "metadata": {},
   "source": [
    "><h4>1) Bernoulli NB classifier</h4><br>\n",
    "\n",
    "The assumption in this model is that the features binary (0s and 1s) in nature. An application of Bernoulli Naïve Bayes classification is Text classification with ‘bag of words’ model. The Scikit-learn provides sklearn.naive_bayes.BernoulliNB to implement the Gaussian Naïve Bayes algorithm for classification.<br>\n",
    "In the multivariate Bernoulli event model, features are independent Booleans (binary variables) describing inputs. Like the multinomial model, this model is popular for document classification tasks, where binary term occurrence features are used rather than term frequencies. If ![alt text](https://wikimedia.org/api/rest_v1/media/math/render/svg/e87000dd6142b81d041896a30fe58f0c3acb2158) is a boolean expressing the occurrence or absence of the i'th term from the vocabulary, then the likelihood of a document given a class ![alt text](https://wikimedia.org/api/rest_v1/media/math/render/svg/1a0887b56787ba96e79de2b9f5c6ff30aabad1c6)is given by<br>\n",
    "![alt text](https://wikimedia.org/api/rest_v1/media/math/render/svg/2b23b8affe1fa31b1ce499d5d2944d9763ff2e6e)\n",
    "\n",
    "where ![alt text](https://wikimedia.org/api/rest_v1/media/math/render/svg/8e043cc1fad255f27aa1376296db9d1436f0c9c8) is the probability of class ![alt text](https://wikimedia.org/api/rest_v1/media/math/render/svg/1a0887b56787ba96e79de2b9f5c6ff30aabad1c6) generating the term ![alt text](https://wikimedia.org/api/rest_v1/media/math/render/svg/e87000dd6142b81d041896a30fe58f0c3acb2158). This event model is especially popular for classifying short texts. It has the benefit of explicitly modelling the absence of terms. Note that a naive Bayes classifier with a Bernoulli event model is not the same as a multinomial NB classifier with frequency counts truncated to one."
   ]
  },
  {
   "cell_type": "markdown",
   "metadata": {},
   "source": [
    "><h4>2) Multinomial Naive Bayes</h4><br>\n",
    "\n",
    "This is basic logic behind naive bayes. It is all about conditional dependency.The term Multinomial Naive Bayes simply lets us know that each p(fi|c) is a multinomial distribution, rather than some other distribution. This works well for data which can easily be turned into counts, such as word counts in text.<br> \n",
    "![alt text](https://wikimedia.org/api/rest_v1/media/math/render/svg/0bf7b8e6edae7359863977eca136558ce5b68568)\n",
    "\n",
    "The multinomial naïve Bayes classifier becomes a linear classifier when expressed in log-space:\n",
    "![alt text](https://wikimedia.org/api/rest_v1/media/math/render/svg/e53303c0644c3d64e5eb86210023e76198285e0c)\n"
   ]
  },
  {
   "cell_type": "markdown",
   "metadata": {},
   "source": [
    "><h4>2)Linear Support Vactore Classification</h4><br>\n",
    "\n",
    "SVM is a supervised machine learning algorithm which can be used for classification or regression problems.Support vectors are data points that are closer to the hyperplane and influence the position and orientation of the hyperplane. Using these support vectors, we maximize the margin of the classifier. SVM has one argument named \"kernel\", which specifies, the hyperplane shape which separates labels. I am using Linear shape for kernel value.<br>\n",
    "![alt text](https://66.media.tumblr.com/ff709fe1c77091952fb3e3e6af91e302/tumblr_inline_o9aa8dYRkB1u37g00_540.png)\n",
    "\n",
    "We are given a training dataset of n points of the form ![alt text](https://wikimedia.org/api/rest_v1/media/math/render/svg/3851f21b1d94ed988a19e869b7993ae18296837c)\n",
    "where the Yi are either 1 or −1, each indicating the class to which the point Xi belongs. Each Xi is a p-dimensional real vector. We want to find the \"maximum-margin hyperplane\" that divides the group of points Xi for which Yi=1 from the group of points for which Yi=-1, which is defined so that the distance between the hyperplane and the nearest point Xi from either group is maximized.<br>\n",
    "\n",
    "Any hyperplane can be written as the set of points X  satisfying![alt text](https://wikimedia.org/api/rest_v1/media/math/render/svg/e993685e0006cfaac206a9c5f9ee7225e0bdeee1)\n",
    "where W  is the (not necessarily normalized) normal vector to the hyperplane. This is much like Hesse normal form, except that W  is not necessarily a unit vector. The parameter ![alt text](https://wikimedia.org/api/rest_v1/media/math/render/svg/905afdc8c606dc1629d3145153f18b30f8d1cead) determines the offset of the hyperplane from the origin along the normal vector W .\n"
   ]
  },
  {
   "cell_type": "markdown",
   "metadata": {},
   "source": [
    "<h1><strong>Import requirement for this project</strong></h1>"
   ]
  },
  {
   "cell_type": "code",
   "execution_count": 45,
   "metadata": {},
   "outputs": [
    {
     "name": "stderr",
     "output_type": "stream",
     "text": [
      "[nltk_data] Downloading package punkt to\n",
      "[nltk_data]     C:\\Users\\Krupa\\AppData\\Roaming\\nltk_data...\n",
      "[nltk_data]   Package punkt is already up-to-date!\n",
      "[nltk_data] Downloading package stopwords to\n",
      "[nltk_data]     C:\\Users\\Krupa\\AppData\\Roaming\\nltk_data...\n",
      "[nltk_data]   Package stopwords is already up-to-date!\n"
     ]
    }
   ],
   "source": [
    "import pathlib\n",
    "import os\n",
    "import re\n",
    "import pandas as pd\n",
    "import numpy as np\n",
    "import random\n",
    "import collections\n",
    "import matplotlib.pyplot as plt\n",
    "from nltk.tokenize import sent_tokenize,word_tokenize\n",
    "import nltk\n",
    "from nltk.corpus import stopwords\n",
    "nltk.download('punkt')\n",
    "nltk.download(\"stopwords\")\n",
    "from sklearn.model_selection import train_test_split\n",
    "from sklearn.feature_extraction.text import TfidfVectorizer, CountVectorizer, TfidfTransformer\n",
    "from sklearn.naive_bayes import GaussianNB, BernoulliNB , MultinomialNB\n",
    "from sklearn.metrics import accuracy_score,f1_score,classification_report, confusion_matrix\n",
    "from sklearn.svm import LinearSVC"
   ]
  },
  {
   "cell_type": "markdown",
   "metadata": {},
   "source": [
    "><b><h3>Read the dataset</h3></b><br>\n",
    ">here I used the read_csv() method of pandas to read the bgg-15m-reviews.csv file data."
   ]
  },
  {
   "cell_type": "code",
   "execution_count": 46,
   "metadata": {},
   "outputs": [
    {
     "name": "stdout",
     "output_type": "stream",
     "text": [
      "   Unnamed: 0             user  rating  \\\n",
      "0           0          Torsten    10.0   \n",
      "1           1  mitnachtKAUBO-I    10.0   \n",
      "2           2           avlawn    10.0   \n",
      "3           3       Mike Mayer    10.0   \n",
      "4           4          Mease19    10.0   \n",
      "\n",
      "                                             comment     ID      name  \n",
      "0                                                NaN  30549  Pandemic  \n",
      "1  Hands down my favorite new game of BGG CON 200...  30549  Pandemic  \n",
      "2  I tend to either love or easily tire of co-op ...  30549  Pandemic  \n",
      "3                                                NaN  30549  Pandemic  \n",
      "4  This is an amazing co-op game.  I play mostly ...  30549  Pandemic  \n",
      "15823269\n"
     ]
    }
   ],
   "source": [
    "df = pd.read_csv(\"../../downloads/archive/bgg-15m-reviews.csv\") \n",
    "\n",
    "print(df.head())\n",
    "print(len(df))"
   ]
  },
  {
   "cell_type": "markdown",
   "metadata": {},
   "source": [
    "><b><h3>Drop null comment records</h3></b><br>\n",
    ">here I remove all the records which contains null in comment field cause they are no longer helpful to decide the rating for that review."
   ]
  },
  {
   "cell_type": "code",
   "execution_count": 47,
   "metadata": {},
   "outputs": [
    {
     "name": "stdout",
     "output_type": "stream",
     "text": [
      "2995023\n"
     ]
    },
    {
     "data": {
      "text/html": [
       "<div>\n",
       "<style scoped>\n",
       "    .dataframe tbody tr th:only-of-type {\n",
       "        vertical-align: middle;\n",
       "    }\n",
       "\n",
       "    .dataframe tbody tr th {\n",
       "        vertical-align: top;\n",
       "    }\n",
       "\n",
       "    .dataframe thead th {\n",
       "        text-align: right;\n",
       "    }\n",
       "</style>\n",
       "<table border=\"1\" class=\"dataframe\">\n",
       "  <thead>\n",
       "    <tr style=\"text-align: right;\">\n",
       "      <th></th>\n",
       "      <th>Unnamed: 0</th>\n",
       "      <th>user</th>\n",
       "      <th>rating</th>\n",
       "      <th>comment</th>\n",
       "      <th>ID</th>\n",
       "      <th>name</th>\n",
       "    </tr>\n",
       "  </thead>\n",
       "  <tbody>\n",
       "    <tr>\n",
       "      <th>1</th>\n",
       "      <td>1</td>\n",
       "      <td>mitnachtKAUBO-I</td>\n",
       "      <td>10.0</td>\n",
       "      <td>Hands down my favorite new game of BGG CON 200...</td>\n",
       "      <td>30549</td>\n",
       "      <td>Pandemic</td>\n",
       "    </tr>\n",
       "    <tr>\n",
       "      <th>2</th>\n",
       "      <td>2</td>\n",
       "      <td>avlawn</td>\n",
       "      <td>10.0</td>\n",
       "      <td>I tend to either love or easily tire of co-op ...</td>\n",
       "      <td>30549</td>\n",
       "      <td>Pandemic</td>\n",
       "    </tr>\n",
       "    <tr>\n",
       "      <th>4</th>\n",
       "      <td>4</td>\n",
       "      <td>Mease19</td>\n",
       "      <td>10.0</td>\n",
       "      <td>This is an amazing co-op game.  I play mostly ...</td>\n",
       "      <td>30549</td>\n",
       "      <td>Pandemic</td>\n",
       "    </tr>\n",
       "    <tr>\n",
       "      <th>5</th>\n",
       "      <td>5</td>\n",
       "      <td>cfarrell</td>\n",
       "      <td>10.0</td>\n",
       "      <td>Hey! I can finally rate this game I've been pl...</td>\n",
       "      <td>30549</td>\n",
       "      <td>Pandemic</td>\n",
       "    </tr>\n",
       "    <tr>\n",
       "      <th>8</th>\n",
       "      <td>8</td>\n",
       "      <td>gregd</td>\n",
       "      <td>10.0</td>\n",
       "      <td>Love it- great fun with my son. 2 plays so far...</td>\n",
       "      <td>30549</td>\n",
       "      <td>Pandemic</td>\n",
       "    </tr>\n",
       "  </tbody>\n",
       "</table>\n",
       "</div>"
      ],
      "text/plain": [
       "   Unnamed: 0             user  rating  \\\n",
       "1           1  mitnachtKAUBO-I    10.0   \n",
       "2           2           avlawn    10.0   \n",
       "4           4          Mease19    10.0   \n",
       "5           5         cfarrell    10.0   \n",
       "8           8            gregd    10.0   \n",
       "\n",
       "                                             comment     ID      name  \n",
       "1  Hands down my favorite new game of BGG CON 200...  30549  Pandemic  \n",
       "2  I tend to either love or easily tire of co-op ...  30549  Pandemic  \n",
       "4  This is an amazing co-op game.  I play mostly ...  30549  Pandemic  \n",
       "5  Hey! I can finally rate this game I've been pl...  30549  Pandemic  \n",
       "8  Love it- great fun with my son. 2 plays so far...  30549  Pandemic  "
      ]
     },
     "execution_count": 47,
     "metadata": {},
     "output_type": "execute_result"
    }
   ],
   "source": [
    "df1 = df.dropna()\n",
    "print(len(df1))\n",
    "df1.head()\n"
   ]
  },
  {
   "cell_type": "code",
   "execution_count": 49,
   "metadata": {},
   "outputs": [
    {
     "name": "stdout",
     "output_type": "stream",
     "text": [
      "Carcassonne                             15472\n",
      "Catan                                   15388\n",
      "Pandemic                                13482\n",
      "7 Wonders                               11367\n",
      "Dominion                                11334\n",
      "Agricola                                10780\n",
      "Ticket to Ride                          10715\n",
      "Puerto Rico                             10261\n",
      "Citadels                                 8820\n",
      "Power Grid                               8796\n",
      "Race for the Galaxy                      7986\n",
      "Small World                              7970\n",
      "King of Tokyo                            7896\n",
      "Lost Cities                              7598\n",
      "Love Letter                              7542\n",
      "Arkham Horror                            7313\n",
      "Ticket to Ride: Europe                   7247\n",
      "Terraforming Mars                        7195\n",
      "Bohnanza                                 7124\n",
      "Codenames                                7017\n",
      "Twilight Struggle                        6871\n",
      "Splendor                                 6753\n",
      "Scythe                                   6572\n",
      "Stone Age                                6518\n",
      "Forbidden Island                         6488\n",
      "Dixit                                    6480\n",
      "Betrayal at House on the Hill            6348\n",
      "Munchkin                                 6326\n",
      "Lords of Waterdeep                       6293\n",
      "Cosmic Encounter                         6268\n",
      "7 Wonders Duel                           6190\n",
      "The Castles of Burgundy                  6158\n",
      "Magic: The Gathering                     6007\n",
      "Battlestar Galactica: The Board Game     5575\n",
      "Risk                                     5571\n",
      "Gloomhaven                               5563\n",
      "Memoir '44                               5456\n",
      "Tigris & Euphrates                       5352\n",
      "Chess                                    5350\n",
      "Alhambra                                 5279\n",
      "Monopoly                                 5223\n",
      "Hive                                     5201\n",
      "Caylus                                   5133\n",
      "Hanabi                                   5043\n",
      "BANG!                                    4953\n",
      "For Sale                                 4949\n",
      "Shadows over Camelot                     4934\n",
      "Azul                                     4933\n",
      "Coup                                     4899\n",
      "Jaipur                                   4878\n",
      "Name: name, dtype: int64\n"
     ]
    }
   ],
   "source": [
    "count=df1['name'].value_counts()[:50]\n",
    "print(count)"
   ]
  },
  {
   "cell_type": "code",
   "execution_count": 50,
   "metadata": {},
   "outputs": [
    {
     "name": "stdout",
     "output_type": "stream",
     "text": [
      "<class 'pandas.core.frame.DataFrame'>\n",
      "                                             comment  rating\n",
      "1  Hands down my favorite new game of BGG CON 200...    10.0\n",
      "2  I tend to either love or easily tire of co-op ...    10.0\n",
      "4  This is an amazing co-op game.  I play mostly ...    10.0\n",
      "5  Hey! I can finally rate this game I've been pl...    10.0\n",
      "8  Love it- great fun with my son. 2 plays so far...    10.0\n"
     ]
    }
   ],
   "source": [
    "data=df1[[\"comment\",\"rating\"]]\n",
    "print(type(data))\n",
    "print(data.head())\n"
   ]
  },
  {
   "cell_type": "markdown",
   "metadata": {},
   "source": [
    ">Here, first I have done the shuffling of the whole data set, then I used only 10% of the whole data by considering the limitation of system processor. Here I have assigned the reviews to the cont variable and rating to val variable."
   ]
  },
  {
   "cell_type": "code",
   "execution_count": 113,
   "metadata": {},
   "outputs": [
    {
     "name": "stdout",
     "output_type": "stream",
     "text": [
      "<class 'pandas.core.frame.DataFrame'>\n",
      "2995\n",
      "                                                    comment  rating\n",
      "4348669     reminds aoe would definitely like buy available     8.0\n",
      "12618505  well say game looks awesome kind awesome perso...     7.0\n",
      "6254433                   quite ages scratches similar itch     6.0\n",
      "15386264  played tonight group seven plenty good fun def...     8.0\n",
      "14781575  unique mechanic world baseball games worth lea...     6.0\n",
      "<class 'pandas.core.frame.DataFrame'>\n"
     ]
    }
   ],
   "source": [
    "# shuffling the data set\n",
    "print(type(data))\n",
    "shuffle = data.sample(frac=1)\n",
    "size = int(0.10*(len(data)+1))\n",
    "data = shuffle[:size]\n",
    "print(len(data))\n",
    "print(data.head())\n",
    "print(type(data))\n",
    "cont = data.iloc[:,0].values\n",
    "val = data.iloc[:,1].values"
   ]
  },
  {
   "cell_type": "markdown",
   "metadata": {},
   "source": [
    "><b><h3>Data Preprocessing</h3></b><br>\n",
    "Here, I have removed all the single letter word and signs and all the (, . \" ; ? ')etc. Also, I have convert all text in to lowercase. and assign that clean text to the cont again."
   ]
  },
  {
   "cell_type": "code",
   "execution_count": 114,
   "metadata": {},
   "outputs": [
    {
     "data": {
      "text/plain": [
       "'quite ages scratches similar itch'"
      ]
     },
     "execution_count": 114,
     "metadata": {},
     "output_type": "execute_result"
    }
   ],
   "source": [
    "def preprocessing_of_data(text):\n",
    "    text = re.sub(re.compile('<.*?>'), '', text) \n",
    "    text = re.sub('[^a-zA-Z]', ' ', text)\n",
    "    text=re.sub('(\\\\b[A-Za-z] \\\\b|\\\\b [A-Za-z]\\\\b)', '', text)\n",
    "    text = text.lower() \n",
    "    return text\n",
    "\n",
    "for i in range(len(cont)):\n",
    "    cont[i] = preprocessing_of_data(cont[i])\n",
    "cont[2]"
   ]
  },
  {
   "cell_type": "code",
   "execution_count": 115,
   "metadata": {},
   "outputs": [
    {
     "name": "stdout",
     "output_type": "stream",
     "text": [
      "<class 'pandas.core.frame.DataFrame'>\n"
     ]
    },
    {
     "data": {
      "text/html": [
       "<div>\n",
       "<style scoped>\n",
       "    .dataframe tbody tr th:only-of-type {\n",
       "        vertical-align: middle;\n",
       "    }\n",
       "\n",
       "    .dataframe tbody tr th {\n",
       "        vertical-align: top;\n",
       "    }\n",
       "\n",
       "    .dataframe thead th {\n",
       "        text-align: right;\n",
       "    }\n",
       "</style>\n",
       "<table border=\"1\" class=\"dataframe\">\n",
       "  <thead>\n",
       "    <tr style=\"text-align: right;\">\n",
       "      <th></th>\n",
       "      <th>comment</th>\n",
       "      <th>rating</th>\n",
       "    </tr>\n",
       "  </thead>\n",
       "  <tbody>\n",
       "    <tr>\n",
       "      <th>4348669</th>\n",
       "      <td>reminds aoe would definitely like buy available</td>\n",
       "      <td>8.0</td>\n",
       "    </tr>\n",
       "    <tr>\n",
       "      <th>12618505</th>\n",
       "      <td>well say game looks awesome kind awesome perso...</td>\n",
       "      <td>7.0</td>\n",
       "    </tr>\n",
       "    <tr>\n",
       "      <th>6254433</th>\n",
       "      <td>quite ages scratches similar itch</td>\n",
       "      <td>6.0</td>\n",
       "    </tr>\n",
       "    <tr>\n",
       "      <th>15386264</th>\n",
       "      <td>played tonight group seven plenty good fun def...</td>\n",
       "      <td>8.0</td>\n",
       "    </tr>\n",
       "    <tr>\n",
       "      <th>14781575</th>\n",
       "      <td>unique mechanic world baseball games worth lea...</td>\n",
       "      <td>6.0</td>\n",
       "    </tr>\n",
       "  </tbody>\n",
       "</table>\n",
       "</div>"
      ],
      "text/plain": [
       "                                                    comment  rating\n",
       "4348669     reminds aoe would definitely like buy available     8.0\n",
       "12618505  well say game looks awesome kind awesome perso...     7.0\n",
       "6254433                   quite ages scratches similar itch     6.0\n",
       "15386264  played tonight group seven plenty good fun def...     8.0\n",
       "14781575  unique mechanic world baseball games worth lea...     6.0"
      ]
     },
     "execution_count": 115,
     "metadata": {},
     "output_type": "execute_result"
    }
   ],
   "source": [
    "print(type(data))\n",
    "data.head()"
   ]
  },
  {
   "cell_type": "markdown",
   "metadata": {},
   "source": [
    "><b><h3>Removal of Stop words</h3></b><br>\n",
    ">To remove stop words, I tokenized those comments using tokenizer tool provided by Natural Language toolkit (NLTK), and then removed those stop words. In nltk, there is one class \"corpus\" which contains list of these stop words. Along with them, comments are also converted into lower alphabets using lower() function."
   ]
  },
  {
   "cell_type": "code",
   "execution_count": 116,
   "metadata": {},
   "outputs": [
    {
     "name": "stderr",
     "output_type": "stream",
     "text": [
      "C:\\Users\\Krupa\\Anaconda3\\lib\\site-packages\\ipykernel_launcher.py:1: SettingWithCopyWarning: \n",
      "A value is trying to be set on a copy of a slice from a DataFrame.\n",
      "Try using .loc[row_indexer,col_indexer] = value instead\n",
      "\n",
      "See the caveats in the documentation: http://pandas.pydata.org/pandas-docs/stable/indexing.html#indexing-view-versus-copy\n",
      "  \"\"\"Entry point for launching an IPython kernel.\n"
     ]
    },
    {
     "data": {
      "text/html": [
       "<div>\n",
       "<style scoped>\n",
       "    .dataframe tbody tr th:only-of-type {\n",
       "        vertical-align: middle;\n",
       "    }\n",
       "\n",
       "    .dataframe tbody tr th {\n",
       "        vertical-align: top;\n",
       "    }\n",
       "\n",
       "    .dataframe thead th {\n",
       "        text-align: right;\n",
       "    }\n",
       "</style>\n",
       "<table border=\"1\" class=\"dataframe\">\n",
       "  <thead>\n",
       "    <tr style=\"text-align: right;\">\n",
       "      <th></th>\n",
       "      <th>comment</th>\n",
       "      <th>rating</th>\n",
       "    </tr>\n",
       "  </thead>\n",
       "  <tbody>\n",
       "    <tr>\n",
       "      <th>4348669</th>\n",
       "      <td>[reminds, aoe, would, definitely, like, buy, a...</td>\n",
       "      <td>8.0</td>\n",
       "    </tr>\n",
       "    <tr>\n",
       "      <th>12618505</th>\n",
       "      <td>[well, say, game, looks, awesome, kind, awesom...</td>\n",
       "      <td>7.0</td>\n",
       "    </tr>\n",
       "    <tr>\n",
       "      <th>6254433</th>\n",
       "      <td>[quite, ages, scratches, similar, itch]</td>\n",
       "      <td>6.0</td>\n",
       "    </tr>\n",
       "    <tr>\n",
       "      <th>15386264</th>\n",
       "      <td>[played, tonight, group, seven, plenty, good, ...</td>\n",
       "      <td>8.0</td>\n",
       "    </tr>\n",
       "    <tr>\n",
       "      <th>14781575</th>\n",
       "      <td>[unique, mechanic, world, baseball, games, wor...</td>\n",
       "      <td>6.0</td>\n",
       "    </tr>\n",
       "  </tbody>\n",
       "</table>\n",
       "</div>"
      ],
      "text/plain": [
       "                                                    comment  rating\n",
       "4348669   [reminds, aoe, would, definitely, like, buy, a...     8.0\n",
       "12618505  [well, say, game, looks, awesome, kind, awesom...     7.0\n",
       "6254433             [quite, ages, scratches, similar, itch]     6.0\n",
       "15386264  [played, tonight, group, seven, plenty, good, ...     8.0\n",
       "14781575  [unique, mechanic, world, baseball, games, wor...     6.0"
      ]
     },
     "execution_count": 116,
     "metadata": {},
     "output_type": "execute_result"
    }
   ],
   "source": [
    "data[\"comment\"] = data.apply(lambda row: word_tokenize(row[\"comment\"]), axis=1)\n",
    "data.head()"
   ]
  },
  {
   "cell_type": "code",
   "execution_count": 117,
   "metadata": {},
   "outputs": [
    {
     "name": "stdout",
     "output_type": "stream",
     "text": [
      "                                                    comment  rating\n",
      "4348669     reminds aoe would definitely like buy available     8.0\n",
      "12618505  well say game looks awesome kind awesome perso...     7.0\n",
      "6254433                   quite ages scratches similar itch     6.0\n",
      "15386264  played tonight group seven plenty good fun def...     8.0\n",
      "14781575  unique mechanic world baseball games worth lea...     6.0\n"
     ]
    },
    {
     "name": "stderr",
     "output_type": "stream",
     "text": [
      "C:\\Users\\Krupa\\Anaconda3\\lib\\site-packages\\ipykernel_launcher.py:2: SettingWithCopyWarning: \n",
      "A value is trying to be set on a copy of a slice from a DataFrame.\n",
      "Try using .loc[row_indexer,col_indexer] = value instead\n",
      "\n",
      "See the caveats in the documentation: http://pandas.pydata.org/pandas-docs/stable/indexing.html#indexing-view-versus-copy\n",
      "  \n",
      "C:\\Users\\Krupa\\Anaconda3\\lib\\site-packages\\ipykernel_launcher.py:3: SettingWithCopyWarning: \n",
      "A value is trying to be set on a copy of a slice from a DataFrame.\n",
      "Try using .loc[row_indexer,col_indexer] = value instead\n",
      "\n",
      "See the caveats in the documentation: http://pandas.pydata.org/pandas-docs/stable/indexing.html#indexing-view-versus-copy\n",
      "  This is separate from the ipykernel package so we can avoid doing imports until\n"
     ]
    }
   ],
   "source": [
    "stop = set(stopwords.words('english'))\n",
    "data['comment'] = data['comment'].apply(lambda x: [word for word in x if word not in stop])\n",
    "data['comment'] = data['comment'].apply(' '.join)\n",
    "print(data.head())"
   ]
  },
  {
   "cell_type": "code",
   "execution_count": 118,
   "metadata": {},
   "outputs": [
    {
     "data": {
      "text/html": [
       "<div>\n",
       "<style scoped>\n",
       "    .dataframe tbody tr th:only-of-type {\n",
       "        vertical-align: middle;\n",
       "    }\n",
       "\n",
       "    .dataframe tbody tr th {\n",
       "        vertical-align: top;\n",
       "    }\n",
       "\n",
       "    .dataframe thead th {\n",
       "        text-align: right;\n",
       "    }\n",
       "</style>\n",
       "<table border=\"1\" class=\"dataframe\">\n",
       "  <thead>\n",
       "    <tr style=\"text-align: right;\">\n",
       "      <th></th>\n",
       "      <th>comment</th>\n",
       "      <th>rating</th>\n",
       "    </tr>\n",
       "  </thead>\n",
       "  <tbody>\n",
       "    <tr>\n",
       "      <th>4348669</th>\n",
       "      <td>reminds aoe would definitely like buy available</td>\n",
       "      <td>8.0</td>\n",
       "    </tr>\n",
       "    <tr>\n",
       "      <th>12618505</th>\n",
       "      <td>well say game looks awesome kind awesome perso...</td>\n",
       "      <td>7.0</td>\n",
       "    </tr>\n",
       "    <tr>\n",
       "      <th>6254433</th>\n",
       "      <td>quite ages scratches similar itch</td>\n",
       "      <td>6.0</td>\n",
       "    </tr>\n",
       "    <tr>\n",
       "      <th>15386264</th>\n",
       "      <td>played tonight group seven plenty good fun def...</td>\n",
       "      <td>8.0</td>\n",
       "    </tr>\n",
       "    <tr>\n",
       "      <th>14781575</th>\n",
       "      <td>unique mechanic world baseball games worth lea...</td>\n",
       "      <td>6.0</td>\n",
       "    </tr>\n",
       "  </tbody>\n",
       "</table>\n",
       "</div>"
      ],
      "text/plain": [
       "                                                    comment  rating\n",
       "4348669     reminds aoe would definitely like buy available     8.0\n",
       "12618505  well say game looks awesome kind awesome perso...     7.0\n",
       "6254433                   quite ages scratches similar itch     6.0\n",
       "15386264  played tonight group seven plenty good fun def...     8.0\n",
       "14781575  unique mechanic world baseball games worth lea...     6.0"
      ]
     },
     "execution_count": 118,
     "metadata": {},
     "output_type": "execute_result"
    }
   ],
   "source": [
    "data.head()"
   ]
  },
  {
   "cell_type": "markdown",
   "metadata": {},
   "source": [
    ">Here, I round up the rating given into the dataset to get the as much as accurate result for the user entered the review."
   ]
  },
  {
   "cell_type": "code",
   "execution_count": 119,
   "metadata": {},
   "outputs": [
    {
     "name": "stderr",
     "output_type": "stream",
     "text": [
      "C:\\Users\\Krupa\\Anaconda3\\lib\\site-packages\\ipykernel_launcher.py:1: SettingWithCopyWarning: \n",
      "A value is trying to be set on a copy of a slice from a DataFrame.\n",
      "Try using .loc[row_indexer,col_indexer] = value instead\n",
      "\n",
      "See the caveats in the documentation: http://pandas.pydata.org/pandas-docs/stable/indexing.html#indexing-view-versus-copy\n",
      "  \"\"\"Entry point for launching an IPython kernel.\n"
     ]
    },
    {
     "data": {
      "text/html": [
       "<div>\n",
       "<style scoped>\n",
       "    .dataframe tbody tr th:only-of-type {\n",
       "        vertical-align: middle;\n",
       "    }\n",
       "\n",
       "    .dataframe tbody tr th {\n",
       "        vertical-align: top;\n",
       "    }\n",
       "\n",
       "    .dataframe thead th {\n",
       "        text-align: right;\n",
       "    }\n",
       "</style>\n",
       "<table border=\"1\" class=\"dataframe\">\n",
       "  <thead>\n",
       "    <tr style=\"text-align: right;\">\n",
       "      <th></th>\n",
       "      <th>comment</th>\n",
       "      <th>rating</th>\n",
       "    </tr>\n",
       "  </thead>\n",
       "  <tbody>\n",
       "    <tr>\n",
       "      <th>4348669</th>\n",
       "      <td>reminds aoe would definitely like buy available</td>\n",
       "      <td>8.0</td>\n",
       "    </tr>\n",
       "    <tr>\n",
       "      <th>12618505</th>\n",
       "      <td>well say game looks awesome kind awesome perso...</td>\n",
       "      <td>7.0</td>\n",
       "    </tr>\n",
       "    <tr>\n",
       "      <th>6254433</th>\n",
       "      <td>quite ages scratches similar itch</td>\n",
       "      <td>6.0</td>\n",
       "    </tr>\n",
       "    <tr>\n",
       "      <th>15386264</th>\n",
       "      <td>played tonight group seven plenty good fun def...</td>\n",
       "      <td>8.0</td>\n",
       "    </tr>\n",
       "    <tr>\n",
       "      <th>14781575</th>\n",
       "      <td>unique mechanic world baseball games worth lea...</td>\n",
       "      <td>6.0</td>\n",
       "    </tr>\n",
       "  </tbody>\n",
       "</table>\n",
       "</div>"
      ],
      "text/plain": [
       "                                                    comment  rating\n",
       "4348669     reminds aoe would definitely like buy available     8.0\n",
       "12618505  well say game looks awesome kind awesome perso...     7.0\n",
       "6254433                   quite ages scratches similar itch     6.0\n",
       "15386264  played tonight group seven plenty good fun def...     8.0\n",
       "14781575  unique mechanic world baseball games worth lea...     6.0"
      ]
     },
     "execution_count": 119,
     "metadata": {},
     "output_type": "execute_result"
    }
   ],
   "source": [
    "data['rating']=np.round(data['rating'])\n",
    "data.head()"
   ]
  },
  {
   "cell_type": "markdown",
   "metadata": {},
   "source": [
    "><b><h2>Splitting the data</h2></b><br>\n",
    ">here I split the data in to the train set and text set."
   ]
  },
  {
   "cell_type": "code",
   "execution_count": 120,
   "metadata": {},
   "outputs": [],
   "source": [
    "#splitting dataset in to four parts randomly\n",
    "X_train, X_test, Y_train, Y_test = train_test_split(data['comment'],data['rating'], test_size=0.3) # 70% training and 30% test"
   ]
  },
  {
   "cell_type": "code",
   "execution_count": 121,
   "metadata": {},
   "outputs": [
    {
     "name": "stdout",
     "output_type": "stream",
     "text": [
      "2096\n"
     ]
    }
   ],
   "source": [
    "print(len(X_train))"
   ]
  },
  {
   "cell_type": "code",
   "execution_count": 122,
   "metadata": {},
   "outputs": [
    {
     "name": "stdout",
     "output_type": "stream",
     "text": [
      "899\n"
     ]
    }
   ],
   "source": [
    "print(len(Y_test))"
   ]
  },
  {
   "cell_type": "markdown",
   "metadata": {},
   "source": [
    "><b><h2>Vectorizer the dataset</h2></b><br>\n",
    ">This CountVectorizer() Convert a collection of text documents to a matrix of token counts.This implementation produces a sparse representation of the counts using scipy.sparse.csr_matrix.<br>\n",
    ">This are the method I used :<br> 1)fit_transform(raw_documents, y=None) *Learn the vocabulary dictionary and return document-term matrix.This is equivalent to fit followed by transform, but more efficiently implemented.<br>2) transform(raw_documents)  *Transform documents to document-term matrix.Extract token counts out of raw text documents using the vocabulary fitted with fit or the one provided to the constructor.<br><br>\n",
    "<br>\n",
    "><b><h4>Vectorizer the dataset with tf idf</h4></b><br>\n",
    ">This TfidfVectorizer() Convert a collection of raw documents to a matrix of TF-IDF features.<br>\n",
    ">This are the method I used : <br> 1)fit_transform(raw_documents, y=None)  *Learn vocabulary and idf, return document-term matrix.This is equivalent to fit followed by transform, but more efficiently implemented.<br> 2) transform(raw_documents, copy='deprecated')  *Transform documents to document-term matrix.Uses the vocabulary and document frequencies (df) learned by fit (or fit_transform)."
   ]
  },
  {
   "cell_type": "code",
   "execution_count": 123,
   "metadata": {},
   "outputs": [],
   "source": [
    "vectorizer = CountVectorizer()\n",
    "Xfit = vectorizer.fit_transform(X_train)\n",
    "Xtransform = vectorizer.transform(X_test)\n",
    "tfidfvect=TfidfVectorizer()\n",
    "Xfit_tfidf=tfidfvect.fit_transform(X_train)\n",
    "Xtransform_tfidf=tfidfvect.transform(X_test)"
   ]
  },
  {
   "cell_type": "markdown",
   "metadata": {},
   "source": [
    "><h1><b>Different Classifiers</b></h1><br>"
   ]
  },
  {
   "cell_type": "markdown",
   "metadata": {},
   "source": [
    "><h2><b>1)Bernoulli Naive Bayes</b></h2><br>\n",
    ">Naive Bayes classifier for multivariate Bernoulli models.Like MultinomialNB, this classifier is suitable for discrete data. The difference is that while MultinomialNB works with occurrence counts, BernoulliNB is designed for binary/boolean features.\n",
    ">This methods I used from bernoulli classifier :<br>1)fit(X, y, sample_weight=None)  *Fit Naive Bayes classifier according to X, y <br>2)predict(X)  *Perform classification on an array of test vectors X."
   ]
  },
  {
   "cell_type": "code",
   "execution_count": 124,
   "metadata": {},
   "outputs": [
    {
     "data": {
      "text/plain": [
       "BernoulliNB(alpha=1.0, binarize=0.0, class_prior=None, fit_prior=True)"
      ]
     },
     "execution_count": 124,
     "metadata": {},
     "output_type": "execute_result"
    }
   ],
   "source": [
    "nb=BernoulliNB()\n",
    "nb.fit(Xfit,Y_train)"
   ]
  },
  {
   "cell_type": "code",
   "execution_count": 125,
   "metadata": {},
   "outputs": [],
   "source": [
    "pred=nb.predict(Xtransform)"
   ]
  },
  {
   "cell_type": "markdown",
   "metadata": {},
   "source": [
    "><b><h2>Accuracy Score</h2></b><br>\n",
    ">This sklearn.metrics.accuracy_score(y_true, y_pred, *, normalize=True, sample_weight=None) Perform classification on an array of test vectors X."
   ]
  },
  {
   "cell_type": "markdown",
   "metadata": {},
   "source": [
    "><b><h2>f1 Score</h2></b><br>\n",
    ">This sklearn.metrics.f1_score(y_true, y_pred, *, labels=None, pos_label=1, average='binary', sample_weight=None, zero_division='warn') Compute the F1 score, also known as balanced F-score or F-measure.<br>\n",
    ">The F1 score can be interpreted as a weighted average of the precision and recall, where an F1 score reaches its best value at 1 and worst score at 0. The relative contribution of precision and recall to the F1 score are equal. The formula for the F1 score is: <br>\n",
    ">F1 = 2 * (precision * recall) / (precision + recall)"
   ]
  },
  {
   "cell_type": "code",
   "execution_count": 126,
   "metadata": {},
   "outputs": [
    {
     "name": "stdout",
     "output_type": "stream",
     "text": [
      "Accuracy: 0.276\n",
      "F1 Score: 0.27586\n"
     ]
    }
   ],
   "source": [
    "nb_acc=accuracy_score(Y_test,pred)\n",
    "nb_f1=f1_score(Y_test,pred,average='micro')\n",
    "print(\"Accuracy: {:.3f}\".format(nb_acc))\n",
    "print(\"F1 Score: {:.5f}\".format(nb_f1))"
   ]
  },
  {
   "cell_type": "markdown",
   "metadata": {},
   "source": [
    ">This is the line chart which represent the first 10 actual rating vs first 10 predicted rating."
   ]
  },
  {
   "cell_type": "code",
   "execution_count": 127,
   "metadata": {},
   "outputs": [
    {
     "data": {
      "image/png": "[encoded data removed]",
      "text/plain": [
       "<Figure size 432x288 with 1 Axes>"
      ]
     },
     "metadata": {
      "needs_background": "light"
     },
     "output_type": "display_data"
    }
   ],
   "source": [
    "import matplotlib.pyplot as plt\n",
    "plt.plot(Y_test[:10].values, label='Actual output',color='red',marker='o')\n",
    "plt.plot(pred[:10], label='prediction',color='green',marker='o')\n",
    "plt.title('review data')\n",
    "plt.grid(True)\n",
    "plt.legend()\n",
    "plt.show()"
   ]
  },
  {
   "cell_type": "markdown",
   "metadata": {},
   "source": [
    "><b><h3>confusion matrix</h3></b>"
   ]
  },
  {
   "cell_type": "code",
   "execution_count": 128,
   "metadata": {},
   "outputs": [
    {
     "name": "stdout",
     "output_type": "stream",
     "text": [
      "[[  0   0   0   0   0   1   5   7   0   0]\n",
      " [  0   0   0   1   0   2   1   5   0   0]\n",
      " [  0   0   0   1   0   8   8   8   0   0]\n",
      " [  0   0   0   0   0  11  17  20   0   0]\n",
      " [  0   0   0   1   0   6  27  42   0   0]\n",
      " [  0   0   0   0   0  13  64  97   1   0]\n",
      " [  0   0   0   1   1  10  71 107   3   0]\n",
      " [  0   0   0   2   0  13  51 163   1   0]\n",
      " [  0   0   0   0   0   2  23  60   1   0]\n",
      " [  0   0   0   1   0   1   6  36   0   0]]\n"
     ]
    }
   ],
   "source": [
    "cm = confusion_matrix(Y_test,pred)\n",
    "print(cm)"
   ]
  },
  {
   "cell_type": "markdown",
   "metadata": {},
   "source": [
    "><b><h3>Heat Map for confusion matrix</h3></b>\n",
    ">A heat map (or heatmap) is a graphical representation of data where the individual values contained in a matrix are represented as colors. It is a bit like looking a data table from above. It is really useful to display a general view of numerical data, not to extract specific data point. It is quite straight forward to make a heat map, as shown on the examples below."
   ]
  },
  {
   "cell_type": "code",
   "execution_count": 129,
   "metadata": {},
   "outputs": [
    {
     "data": {
      "image/png": "[encoded data removed]",
      "text/plain": [
       "<Figure size 1080x576 with 2 Axes>"
      ]
     },
     "metadata": {
      "needs_background": "light"
     },
     "output_type": "display_data"
    }
   ],
   "source": [
    "\n",
    "plt.figure(figsize=(15,8))\n",
    "# ax = sb.heatmap(cm2, linewidth=0.5)\n",
    "plt.imshow(cm, cmap='RdPu', interpolation='nearest')\n",
    "plt.title(\"Confusion matrix for linear SVC\")\n",
    "plt.ylabel(\"actual rating\")\n",
    "plt.xlabel(\"predicted rating\")\n",
    "plt.colorbar()\n",
    "plt.show()"
   ]
  },
  {
   "cell_type": "markdown",
   "metadata": {},
   "source": [
    "><b><h3>Classification report</h3></b><br>\n",
    "> this sklearn.metrics.classification_report(y_true, y_pred, *, labels=None, target_names=None, sample_weight=None, digits=2, output_dict=False, zero_division='warn') funtion is used for classifictaion report.<br>\n",
    ">Build a text report showing the main classification metrics."
   ]
  },
  {
   "cell_type": "code",
   "execution_count": 130,
   "metadata": {},
   "outputs": [
    {
     "name": "stdout",
     "output_type": "stream",
     "text": [
      "Classification Report for Bernoulli Naive Bayes\n",
      "              precision    recall  f1-score   support\n",
      "\n",
      "         1.0       0.00      0.00      0.00        13\n",
      "         2.0       0.00      0.00      0.00         9\n",
      "         3.0       0.00      0.00      0.00        25\n",
      "         4.0       0.00      0.00      0.00        48\n",
      "         5.0       0.00      0.00      0.00        76\n",
      "         6.0       0.19      0.07      0.11       175\n",
      "         7.0       0.26      0.37      0.30       193\n",
      "         8.0       0.30      0.71      0.42       230\n",
      "         9.0       0.17      0.01      0.02        86\n",
      "        10.0       0.00      0.00      0.00        44\n",
      "\n",
      "    accuracy                           0.28       899\n",
      "   macro avg       0.09      0.12      0.09       899\n",
      "weighted avg       0.19      0.28      0.20       899\n",
      "\n"
     ]
    },
    {
     "name": "stderr",
     "output_type": "stream",
     "text": [
      "C:\\Users\\Krupa\\Anaconda3\\lib\\site-packages\\sklearn\\metrics\\classification.py:1437: UndefinedMetricWarning: Precision and F-score are ill-defined and being set to 0.0 in labels with no predicted samples.\n",
      "  'precision', 'predicted', average, warn_for)\n"
     ]
    }
   ],
   "source": [
    "cr = classification_report(Y_test, pred)\n",
    "print(\"Classification Report for Bernoulli Naive Bayes\")\n",
    "print(cr)"
   ]
  },
  {
   "cell_type": "markdown",
   "metadata": {},
   "source": [
    "><b><h2>Multinomial Naive Bayes calssifier</h2></b><br>\n",
    "> this class sklearn.naive_bayes.MultinomialNB(*, alpha=1.0, fit_prior=True, class_prior=None) function used for Multinomial Naive Bayes.<br>\n",
    ">Naive Bayes classifier for multinomial models<br>\n",
    ">The multinomial Naive Bayes classifier is suitable for classification with discrete features (e.g., word counts for text classification). The multinomial distribution normally requires integer feature counts. However, in practice, fractional counts such as tf-idf may also work."
   ]
  },
  {
   "cell_type": "code",
   "execution_count": 131,
   "metadata": {},
   "outputs": [
    {
     "data": {
      "text/plain": [
       "MultinomialNB(alpha=0.001, class_prior=None, fit_prior=True)"
      ]
     },
     "execution_count": 131,
     "metadata": {},
     "output_type": "execute_result"
    }
   ],
   "source": [
    "mnb=MultinomialNB(alpha=0.001)\n",
    "mnb.fit(Xfit,Y_train)"
   ]
  },
  {
   "cell_type": "code",
   "execution_count": 132,
   "metadata": {},
   "outputs": [],
   "source": [
    "pred1=mnb.predict(Xtransform)"
   ]
  },
  {
   "cell_type": "code",
   "execution_count": 133,
   "metadata": {},
   "outputs": [
    {
     "name": "stdout",
     "output_type": "stream",
     "text": [
      "Accuracy: 0.242\n",
      "F1 Score: 0.24249\n"
     ]
    }
   ],
   "source": [
    "mnb_acc=accuracy_score(Y_test,pred1)\n",
    "mnb_f1=f1_score(Y_test,pred1,average='micro')\n",
    "print(\"Accuracy: {:.3f}\".format(mnb_acc))\n",
    "print(\"F1 Score: {:.5f}\".format(mnb_f1))"
   ]
  },
  {
   "cell_type": "code",
   "execution_count": 134,
   "metadata": {},
   "outputs": [
    {
     "data": {
      "image/png": "[encoded data removed]",
      "text/plain": [
       "<Figure size 432x288 with 1 Axes>"
      ]
     },
     "metadata": {
      "needs_background": "light"
     },
     "output_type": "display_data"
    }
   ],
   "source": [
    "# import matplotlib.pyplot as plt\n",
    "\n",
    "# x = [0,1,2,3,4,5,6,7,8,9]\n",
    "# plt.scatter(x,Y_test[:10].values, color='red', alpha=0.5)\n",
    "# plt.scatter(x,pred1[:10], color='green', alpha=0.5)\n",
    "# plt.show()\n",
    "\n",
    "import matplotlib.pyplot as plt\n",
    "plt.plot(Y_test[:10].values, label='Actual output',color='red',marker='o')\n",
    "plt.plot(pred1[:10], label='prediction',color='green',marker='o')\n",
    "plt.title('review data')\n",
    "plt.grid(True)\n",
    "plt.legend()\n",
    "plt.show()"
   ]
  },
  {
   "cell_type": "code",
   "execution_count": 135,
   "metadata": {},
   "outputs": [
    {
     "name": "stdout",
     "output_type": "stream",
     "text": [
      "[[  0   0   1   1   0   2   4   4   1   0]\n",
      " [  0   0   0   1   1   6   0   1   0   0]\n",
      " [  1   0   0   2   0   9   9   3   0   1]\n",
      " [  0   0   2   2   4   9  17  10   3   1]\n",
      " [  0   1   0   2   6  22  18  23   2   2]\n",
      " [  0   1   2   5   9  43  46  59   5   5]\n",
      " [  0   0   2   3   8  46  53  59  13   9]\n",
      " [  0   0   1   2  10  42  43 105  18   9]\n",
      " [  0   0   0   2   4  21  23  25   6   5]\n",
      " [  0   0   1   0   1   7  11  15   6   3]]\n"
     ]
    }
   ],
   "source": [
    "cm1 = confusion_matrix(Y_test,pred1)\n",
    "print(cm1)"
   ]
  },
  {
   "cell_type": "code",
   "execution_count": 136,
   "metadata": {},
   "outputs": [
    {
     "data": {
      "image/png": "[encoded data removed]",
      "text/plain": [
       "<Figure size 1080x576 with 2 Axes>"
      ]
     },
     "metadata": {
      "needs_background": "light"
     },
     "output_type": "display_data"
    }
   ],
   "source": [
    "\n",
    "plt.figure(figsize=(15,8))\n",
    "# ax = sb.heatmap(cm2, linewidth=0.5)\n",
    "plt.imshow(cm1, cmap='BuPu', interpolation='nearest')\n",
    "plt.title(\"Confusion matrix for linear SVC\")\n",
    "plt.ylabel(\"actual rating\")\n",
    "plt.xlabel(\"predicted rating\")\n",
    "plt.colorbar()\n",
    "plt.show()"
   ]
  },
  {
   "cell_type": "code",
   "execution_count": 137,
   "metadata": {},
   "outputs": [
    {
     "name": "stdout",
     "output_type": "stream",
     "text": [
      "Classification Report for Multinomial Naive Bayes\n",
      "              precision    recall  f1-score   support\n",
      "\n",
      "         1.0       0.00      0.00      0.00        13\n",
      "         2.0       0.00      0.00      0.00         9\n",
      "         3.0       0.00      0.00      0.00        25\n",
      "         4.0       0.10      0.04      0.06        48\n",
      "         5.0       0.14      0.08      0.10        76\n",
      "         6.0       0.21      0.25      0.23       175\n",
      "         7.0       0.24      0.27      0.25       193\n",
      "         8.0       0.35      0.46      0.39       230\n",
      "         9.0       0.11      0.07      0.09        86\n",
      "        10.0       0.09      0.07      0.08        44\n",
      "\n",
      "    accuracy                           0.24       899\n",
      "   macro avg       0.12      0.12      0.12       899\n",
      "weighted avg       0.21      0.24      0.22       899\n",
      "\n"
     ]
    }
   ],
   "source": [
    "cr1 = classification_report(Y_test, pred1)\n",
    "print(\"Classification Report for Multinomial Naive Bayes\")\n",
    "print(cr1)"
   ]
  },
  {
   "cell_type": "markdown",
   "metadata": {},
   "source": [
    "><b><h2>Grid search</h2></b><br>\n",
    "> This function class sklearn.model_selection.GridSearchCV(estimator, param_grid, *, scoring=None, n_jobs=None, iid='deprecated', refit=True, cv=None, verbose=0, pre_dispatch='2*n_jobs', error_score=nan, return_train_score=False) is used for the grid search.<br><br>\n",
    ">Exhaustive search over specified parameter values for an estimator. Important members are fit, predict. GridSearchCV implements a “fit” and a “score” method. It also implements “predict”, “predict_proba”, “decision_function”, “transform” and “inverse_transform” if they are implemented in the estimator used. The parameters of the estimator used to apply these methods are optimized by cross-validated grid-search over a parameter grid.\n",
    "\n",
    ">This is the method I used to get the best score and best parameter : <br> fit(X, y=None, *, groups=None, **fit_params) : Run fit with all sets of parameters.\n"
   ]
  },
  {
   "cell_type": "code",
   "execution_count": 78,
   "metadata": {},
   "outputs": [
    {
     "name": "stderr",
     "output_type": "stream",
     "text": [
      "C:\\Users\\Krupa\\Anaconda3\\lib\\site-packages\\sklearn\\model_selection\\_split.py:657: Warning: The least populated class in y has only 1 members, which is too few. The minimum number of members in any class cannot be less than n_splits=5.\n",
      "  % (min_groups, self.n_splits)), Warning)\n"
     ]
    },
    {
     "name": "stdout",
     "output_type": "stream",
     "text": [
      "best accuracy : 0.30042\n",
      "best parameter:  {'alpha': 1}\n"
     ]
    }
   ],
   "source": [
    "from sklearn.model_selection import GridSearchCV\n",
    "param={'alpha': [0.01,0.1,0.5,1,10]}\n",
    "mnb_grid_search=GridSearchCV(MultinomialNB(), param_grid=param, n_jobs=-1, cv=5)\n",
    "mnb_grid_search.fit(Xfit,Y_train)\n",
    "\n",
    "print(\"best accuracy : %.5f\"%mnb_grid_search.best_score_)\n",
    "print(\"best parameter: \", mnb_grid_search.best_params_)"
   ]
  },
  {
   "cell_type": "markdown",
   "metadata": {},
   "source": [
    "><b><h2>Multinomial Naive bayes with tf idf</h2></b> "
   ]
  },
  {
   "cell_type": "code",
   "execution_count": 139,
   "metadata": {},
   "outputs": [
    {
     "data": {
      "text/plain": [
       "MultinomialNB(alpha=0.001, class_prior=None, fit_prior=True)"
      ]
     },
     "execution_count": 139,
     "metadata": {},
     "output_type": "execute_result"
    }
   ],
   "source": [
    "mnbtf=MultinomialNB(alpha=0.001)\n",
    "mnbtf.fit(Xfit_tfidf,Y_train)"
   ]
  },
  {
   "cell_type": "code",
   "execution_count": 140,
   "metadata": {},
   "outputs": [],
   "source": [
    "predtf=mnbtf.predict(Xtransform_tfidf)"
   ]
  },
  {
   "cell_type": "code",
   "execution_count": 141,
   "metadata": {},
   "outputs": [
    {
     "name": "stdout",
     "output_type": "stream",
     "text": [
      "Accuracy: 0.244\n",
      "F1 Score: 0.24360\n"
     ]
    }
   ],
   "source": [
    "mnb_acc_tfidf=accuracy_score(Y_test,predtf)\n",
    "mnb_f1_tfidf=f1_score(Y_test,predtf,average='micro')\n",
    "print(\"Accuracy: {:.3f}\".format(mnb_acc_tfidf))\n",
    "print(\"F1 Score: {:.5f}\".format(mnb_f1_tfidf))"
   ]
  },
  {
   "cell_type": "code",
   "execution_count": 142,
   "metadata": {},
   "outputs": [
    {
     "data": {
      "image/png": "[encoded data removed]",
      "text/plain": [
       "<Figure size 432x288 with 1 Axes>"
      ]
     },
     "metadata": {
      "needs_background": "light"
     },
     "output_type": "display_data"
    }
   ],
   "source": [
    "import matplotlib.pyplot as plt\n",
    "plt.plot(Y_test[:10].values, label='Actual output',color='red',marker='o')\n",
    "plt.plot(predtf[:10], label='prediction',color='green',marker='o')\n",
    "plt.title('review data')\n",
    "plt.grid(True)\n",
    "plt.legend()\n",
    "plt.show()"
   ]
  },
  {
   "cell_type": "code",
   "execution_count": 143,
   "metadata": {},
   "outputs": [
    {
     "name": "stdout",
     "output_type": "stream",
     "text": [
      "[[  0   0   1   1   0   3   4   4   0   0]\n",
      " [  0   0   0   0   1   7   0   1   0   0]\n",
      " [  0   0   0   2   0   8  11   4   0   0]\n",
      " [  0   0   0   0   3  15  19   9   2   0]\n",
      " [  0   0   0   1   4  22  17  30   2   0]\n",
      " [  0   0   1   5   7  42  47  64   4   5]\n",
      " [  0   0   1   3   8  45  46  71  13   6]\n",
      " [  0   0   0   3   7  41  40 120  14   5]\n",
      " [  0   0   0   0   2  22  25  31   4   2]\n",
      " [  0   0   1   0   0   8   8  19   5   3]]\n"
     ]
    }
   ],
   "source": [
    "cmtf = confusion_matrix(Y_test,predtf)\n",
    "print(cmtf)"
   ]
  },
  {
   "cell_type": "code",
   "execution_count": 144,
   "metadata": {},
   "outputs": [
    {
     "data": {
      "image/png": "[encoded data removed]",
      "text/plain": [
       "<Figure size 1080x576 with 2 Axes>"
      ]
     },
     "metadata": {
      "needs_background": "light"
     },
     "output_type": "display_data"
    }
   ],
   "source": [
    "\n",
    "plt.figure(figsize=(15,8))\n",
    "# ax = sb.heatmap(cm2, linewidth=0.5)\n",
    "plt.imshow(cmtf, cmap='Greens', interpolation='nearest')\n",
    "plt.title(\"Confusion matrix for linear SVC\")\n",
    "plt.ylabel(\"actual rating\")\n",
    "plt.xlabel(\"predicted rating\")\n",
    "plt.colorbar()\n",
    "plt.show()"
   ]
  },
  {
   "cell_type": "code",
   "execution_count": 145,
   "metadata": {},
   "outputs": [
    {
     "name": "stdout",
     "output_type": "stream",
     "text": [
      "Classification Report for Multinomial with tfidf\n",
      "              precision    recall  f1-score   support\n",
      "\n",
      "         1.0       0.00      0.00      0.00        13\n",
      "         2.0       0.00      0.00      0.00         9\n",
      "         3.0       0.00      0.00      0.00        25\n",
      "         4.0       0.00      0.00      0.00        48\n",
      "         5.0       0.12      0.05      0.07        76\n",
      "         6.0       0.20      0.24      0.22       175\n",
      "         7.0       0.21      0.24      0.22       193\n",
      "         8.0       0.34      0.52      0.41       230\n",
      "         9.0       0.09      0.05      0.06        86\n",
      "        10.0       0.14      0.07      0.09        44\n",
      "\n",
      "    accuracy                           0.24       899\n",
      "   macro avg       0.11      0.12      0.11       899\n",
      "weighted avg       0.20      0.24      0.21       899\n",
      "\n"
     ]
    },
    {
     "name": "stderr",
     "output_type": "stream",
     "text": [
      "C:\\Users\\Krupa\\Anaconda3\\lib\\site-packages\\sklearn\\metrics\\classification.py:1437: UndefinedMetricWarning: Precision and F-score are ill-defined and being set to 0.0 in labels with no predicted samples.\n",
      "  'precision', 'predicted', average, warn_for)\n"
     ]
    }
   ],
   "source": [
    "cr3 = classification_report(Y_test, predtf)\n",
    "print(\"Classification Report for Multinomial with tfidf\")\n",
    "print(cr3)"
   ]
  },
  {
   "cell_type": "markdown",
   "metadata": {},
   "source": [
    "><b><h2>linear Support vector classification</h2></b><br>\n",
    ">This function class sklearn.svm.LinearSVC(penalty='l2', loss='squared_hinge', *, dual=True, tol=0.0001, C=1.0, multi_class='ovr', fit_intercept=True, intercept_scaling=1, class_weight=None, verbose=0, random_state=None, max_iter=1000) is used for linear svc.<br>\n",
    "> Linear Support Vector Classification. Similar to SVC with parameter kernel=’linear’, but implemented in terms of liblinear rather than libsvm, so it has more flexibility in the choice of penalties and loss functions and should scale better to large numbers of samples. This class supports both dense and sparse input and the multiclass support is handled according to a one-vs-the-rest scheme."
   ]
  },
  {
   "cell_type": "code",
   "execution_count": 146,
   "metadata": {},
   "outputs": [
    {
     "data": {
      "text/plain": [
       "LinearSVC(C=1.0, class_weight=None, dual=True, fit_intercept=True,\n",
       "          intercept_scaling=1, loss='squared_hinge', max_iter=1000,\n",
       "          multi_class='ovr', penalty='l2', random_state=None, tol=0.0001,\n",
       "          verbose=0)"
      ]
     },
     "execution_count": 146,
     "metadata": {},
     "output_type": "execute_result"
    }
   ],
   "source": [
    "lsvc=LinearSVC()\n",
    "lsvc.fit(Xfit,Y_train)"
   ]
  },
  {
   "cell_type": "code",
   "execution_count": 147,
   "metadata": {},
   "outputs": [],
   "source": [
    "pred2=lsvc.predict(Xtransform)"
   ]
  },
  {
   "cell_type": "code",
   "execution_count": 148,
   "metadata": {},
   "outputs": [
    {
     "name": "stdout",
     "output_type": "stream",
     "text": [
      "Accuracy: 0.212\n",
      "F1 Score: 0.21246\n"
     ]
    }
   ],
   "source": [
    "lsvc_acc=accuracy_score(Y_test,pred2)\n",
    "lsvc_f1=f1_score(Y_test,pred2,average='micro')\n",
    "print(\"Accuracy: {:.3f}\".format(lsvc_acc))\n",
    "print(\"F1 Score: {:.5f}\".format(lsvc_f1))"
   ]
  },
  {
   "cell_type": "code",
   "execution_count": 149,
   "metadata": {},
   "outputs": [
    {
     "data": {
      "image/png": "[encoded data removed]",
      "text/plain": [
       "<Figure size 432x288 with 1 Axes>"
      ]
     },
     "metadata": {
      "needs_background": "light"
     },
     "output_type": "display_data"
    }
   ],
   "source": [
    "plt.plot(Y_test[:10].values, label='Actual output',color='red',marker='o')\n",
    "plt.plot(pred2[:10], label='prediction',color='green',marker='o')\n",
    "plt.title('review data')\n",
    "plt.grid(True)\n",
    "plt.legend()\n",
    "plt.show()"
   ]
  },
  {
   "cell_type": "code",
   "execution_count": 150,
   "metadata": {},
   "outputs": [
    {
     "name": "stdout",
     "output_type": "stream",
     "text": [
      "[[ 0  0  0  2  0  6  1  4  0  0]\n",
      " [ 0  0  0  1  1  3  1  3  0  0]\n",
      " [ 0  0  1  4  4 10  3  2  0  1]\n",
      " [ 0  0  3  2  4 13  7 11  4  4]\n",
      " [ 0  1  2  3  4 18 19 19  7  3]\n",
      " [ 0  1  1 10 12 41 47 41 12 10]\n",
      " [ 0  1  1 10 12 37 60 51 14  7]\n",
      " [ 0  2  2  8 16 42 62 69 13 16]\n",
      " [ 0  3  0  2  3 11 23 29 10  5]\n",
      " [ 0  1  1  3  0  6  7 17  5  4]]\n"
     ]
    }
   ],
   "source": [
    "cm2 = confusion_matrix(Y_test,pred2)\n",
    "print(cm2)"
   ]
  },
  {
   "cell_type": "code",
   "execution_count": 151,
   "metadata": {},
   "outputs": [
    {
     "data": {
      "image/png": "[encoded data removed]",
      "text/plain": [
       "<Figure size 1080x576 with 2 Axes>"
      ]
     },
     "metadata": {
      "needs_background": "light"
     },
     "output_type": "display_data"
    }
   ],
   "source": [
    "# import seaborn as sb\n",
    "# print(\"Confusion matrix for linear SVC:\\n\")\n",
    "# matrix = confusion_matrix(Y_test,pred2)\n",
    "# fig= plt.figure(figsize=(15,6))\n",
    "# ax = fig.add_axes([1,1,1,1])\n",
    "# sb.heatmap(matrix/np.sum(matrix), square=True, annot=True, cmap=\"RdPu\")\n",
    "# ax.set_xlabel('Actual rating')\n",
    "# ax.set_ylabel('Predicted rating')\n",
    "\n",
    "plt.figure(figsize=(15,8))\n",
    "# ax = sb.heatmap(cm2, linewidth=0.5)\n",
    "plt.imshow(cm2, cmap='Blues', interpolation='nearest')\n",
    "plt.title(\"Confusion matrix for linear SVC\")\n",
    "plt.ylabel(\"actual rating\")\n",
    "plt.xlabel(\"predicted rating\")\n",
    "plt.colorbar()\n",
    "plt.show()"
   ]
  },
  {
   "cell_type": "code",
   "execution_count": 152,
   "metadata": {},
   "outputs": [
    {
     "name": "stdout",
     "output_type": "stream",
     "text": [
      "Classification Report for Linear SVC\n",
      "              precision    recall  f1-score   support\n",
      "\n",
      "         1.0       0.00      0.00      0.00        13\n",
      "         2.0       0.00      0.00      0.00         9\n",
      "         3.0       0.09      0.04      0.06        25\n",
      "         4.0       0.04      0.04      0.04        48\n",
      "         5.0       0.07      0.05      0.06        76\n",
      "         6.0       0.22      0.23      0.23       175\n",
      "         7.0       0.26      0.31      0.28       193\n",
      "         8.0       0.28      0.30      0.29       230\n",
      "         9.0       0.15      0.12      0.13        86\n",
      "        10.0       0.08      0.09      0.09        44\n",
      "\n",
      "    accuracy                           0.21       899\n",
      "   macro avg       0.12      0.12      0.12       899\n",
      "weighted avg       0.20      0.21      0.20       899\n",
      "\n"
     ]
    }
   ],
   "source": [
    "cr2 = classification_report(Y_test, pred2)\n",
    "print(\"Classification Report for Linear SVC\")\n",
    "print(cr2)"
   ]
  },
  {
   "cell_type": "markdown",
   "metadata": {},
   "source": [
    "><b><h2>comaparison of all different classifier Accuracy using scatter plot</h2></b>\n"
   ]
  },
  {
   "cell_type": "code",
   "execution_count": 153,
   "metadata": {},
   "outputs": [
    {
     "data": {
      "image/png": "[encoded data removed]",
      "text/plain": [
       "<Figure size 1080x432 with 1 Axes>"
      ]
     },
     "metadata": {
      "needs_background": "light"
     },
     "output_type": "display_data"
    }
   ],
   "source": [
    "# Fixing random state for reproducibility\n",
    "# np.random.seed(19680801)\n",
    "\n",
    "plt.figure(figsize=(15,6))\n",
    "N = 4\n",
    "x = ['nb_acc','mnb_acc','mnb_acc_tfidf', 'lsvc_acc']\n",
    "y = [nb_acc,mnb_acc,mnb_acc_tfidf, lsvc_acc]\n",
    "colors =['blue','red','green','orange']\n",
    "area = (30 * np.random.rand(N))**2  # 0 to 15 point radii\n",
    "for i in range(len(x)):\n",
    "    plt.annotate(y[i], (x[i], y[i]), xytext=(10,10), textcoords='offset points')\n",
    "    plt.scatter(x[i], y[i], s=area, color=colors[i], alpha=0.5)\n",
    "plt.show()"
   ]
  },
  {
   "cell_type": "code",
   "execution_count": 159,
   "metadata": {},
   "outputs": [
    {
     "name": "stdout",
     "output_type": "stream",
     "text": [
      "[2.]\n"
     ]
    }
   ],
   "source": [
    "text=[\"bad worsen worst game\"]\n",
    "# ridge = joblib.load('model_ridge_class.sav')\n",
    "vector = vectorizer.transform(text)\n",
    "result = mnb.predict(vector)\n",
    "print(result)"
   ]
  },
  {
   "cell_type": "markdown",
   "metadata": {},
   "source": [
    "><h2><b>Contribution</b></h2><br><br>\n",
    ">1) First I want to comapre two different Naive Bayes approches which are Bernoulli NB and Multinomial NB respectively. And I found that the Bernoulli Naive Bayes give better Accuracy than Multinomial Naive Bayes.<br>\n",
    ">As Second step I used the Multinomial with tf idf to improve the multinomial Naive Bayes classifier's accuracy. Which result you can see in the above chart.\n",
    "\n",
    ">2) I want to compare two different classifiers like the Linear Support Vector Classifier with Naive Bayes classifier. As a result, I got the conclusion that Linear Supoort Vector Classifier is very slow compare to the Naive Bayes Classifier.<br>\n",
    ">Other most important finding is that Naive Bayes gives the high accuracy than the Support Vector Classifier."
   ]
  },
  {
   "cell_type": "markdown",
   "metadata": {},
   "source": [
    "><h2><b>Challenges faced during the project</b></h2><br><br>\n",
    ">1) As this data is too large that contains 15 millions of record. It is too hard to use all the data and get the accuracy of different classification models. Considering my device's processor capacity, I decide to the shuffle the whole data and take 10% portion of the data to complete this project.\n",
    "\n",
    ">2) Second challenge I faced here is, it is hard to decide which classification is best only having the accuracy mesure. So, I decide to make the classification report for the every different classier which is helpful to decide the best clssifier for this game review dataset."
   ]
  },
  {
   "cell_type": "markdown",
   "metadata": {},
   "source": [
    "><h2><b>Best hyperparameter</b></h2><br>\n",
    "> For my term project,I can conclude after using different classifier that Naive bayes gives the best result and accuracy than any other clssifier."
   ]
  },
  {
   "cell_type": "code",
   "execution_count": 154,
   "metadata": {},
   "outputs": [
    {
     "data": {
      "text/plain": [
       "['tfidfvect.sav']"
      ]
     },
     "execution_count": 154,
     "metadata": {},
     "output_type": "execute_result"
    }
   ],
   "source": [
    "import joblib\n",
    "# joblib.dump(model_ridge_class,'model_ridge_class.sav')\n",
    "joblib.dump(mnb,'mnb.sav')\n",
    "joblib.dump(nb,'nb.sav')\n",
    "joblib.dump(lsvc,'lsvc.sav')\n",
    "joblib.dump(mnbtf,'mnbtf.sav')\n",
    "joblib.dump(vectorizer,'vectorizer.sav')\n",
    "joblib.dump(tfidfvect,'tfidfvect.sav')"
   ]
  },
  {
   "cell_type": "markdown",
   "metadata": {},
   "source": [
    "><h1><b>References</b></h1><br>\n",
    "\n"
   ]
  },
  {
   "cell_type": "markdown",
   "metadata": {},
   "source": [
    "a.vectorization : https://scikit-learn.org/stable/modules/generated/sklearn.feature_extraction.text.CountVectorizer.html<br>\n",
    "b.bernoulliNB : https://scikit-learn.org/stable/modules/generated/sklearn.naive_bayes.BernoulliNB.html<br>\n",
    "c.accuracy score : https://scikit-learn.org/stable/modules/generated/sklearn.metrics.accuracy_score.html<br>\n",
    "d.F1 score : https://scikit-learn.org/stable/modules/generated/sklearn.metrics.f1_score.html<br>\n",
    "e.confusion matrix : https://scikit-learn.org/stable/modules/generated/sklearn.metrics.confusion_matrix.html<br>\n",
    "f. heatmap :https://matplotlib.org/3.1.1/gallery/images_contours_and_fields/image_annotated_heatmap.html<br>\n",
    "g. classification report : https://scikit-learn.org/stable/modules/generated/sklearn.metrics.classification_report.html<br>\n",
    "h. muntinomial Naive Bayes : https://scikit-learn.org/stable/modules/generated/sklearn.naive_bayes.MultinomialNB.html\n",
    "i. linear svc : https://scikit-learn.org/stable/modules/generated/sklearn.svm.LinearSVC.html<br>\n",
    "j. stop words removal : https://stackoverflow.com/questions/29523254/python-remove-stop-words-from-pandas-dataframe<br>\n",
    "k. grid search :https://scikit-learn.org/stable/modules/generated/sklearn.model_selection.GridSearchCV.html"
   ]
  },
  {
   "cell_type": "code",
   "execution_count": null,
   "metadata": {},
   "outputs": [],
   "source": []
  }
 ],
 "metadata": {
  "kernelspec": {
   "display_name": "Python 3",
   "language": "python",
   "name": "python3"
  },
  "language_info": {
   "codemirror_mode": {
    "name": "ipython",
    "version": 3
   },
   "file_extension": ".py",
   "mimetype": "text/x-python",
   "name": "python",
   "nbconvert_exporter": "python",
   "pygments_lexer": "ipython3",
   "version": "3.7.3"
  }
 },
 "nbformat": 4,
 "nbformat_minor": 2
}
